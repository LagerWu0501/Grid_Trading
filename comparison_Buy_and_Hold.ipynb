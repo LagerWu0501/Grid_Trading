{
 "cells": [
  {
   "cell_type": "code",
   "execution_count": 2,
   "metadata": {},
   "outputs": [],
   "source": [
    "import numpy as np\n",
    "import pandas as pd\n",
    "import Strategies \n",
    "import Strategy_Analysis_Tool \n",
    "from binance.client import Client\n",
    "from matplotlib import pyplot as plt\n"
   ]
  },
  {
   "cell_type": "code",
   "execution_count": 3,
   "metadata": {},
   "outputs": [
    {
     "data": {
      "text/html": [
       "<div>\n",
       "<style scoped>\n",
       "    .dataframe tbody tr th:only-of-type {\n",
       "        vertical-align: middle;\n",
       "    }\n",
       "\n",
       "    .dataframe tbody tr th {\n",
       "        vertical-align: top;\n",
       "    }\n",
       "\n",
       "    .dataframe thead th {\n",
       "        text-align: right;\n",
       "    }\n",
       "</style>\n",
       "<table border=\"1\" class=\"dataframe\">\n",
       "  <thead>\n",
       "    <tr style=\"text-align: right;\">\n",
       "      <th></th>\n",
       "      <th>open</th>\n",
       "      <th>high</th>\n",
       "      <th>low</th>\n",
       "      <th>close</th>\n",
       "      <th>volume</th>\n",
       "      <th>date</th>\n",
       "    </tr>\n",
       "  </thead>\n",
       "  <tbody>\n",
       "    <tr>\n",
       "      <th>0</th>\n",
       "      <td>4261.48</td>\n",
       "      <td>4313.62</td>\n",
       "      <td>4261.32</td>\n",
       "      <td>4308.83</td>\n",
       "      <td>47.181009</td>\n",
       "      <td>2017-08-17 04:00:00</td>\n",
       "    </tr>\n",
       "    <tr>\n",
       "      <th>1</th>\n",
       "      <td>4308.83</td>\n",
       "      <td>4328.69</td>\n",
       "      <td>4291.37</td>\n",
       "      <td>4315.32</td>\n",
       "      <td>23.234916</td>\n",
       "      <td>2017-08-17 05:00:00</td>\n",
       "    </tr>\n",
       "    <tr>\n",
       "      <th>2</th>\n",
       "      <td>4330.29</td>\n",
       "      <td>4345.45</td>\n",
       "      <td>4309.37</td>\n",
       "      <td>4324.35</td>\n",
       "      <td>7.229691</td>\n",
       "      <td>2017-08-17 06:00:00</td>\n",
       "    </tr>\n",
       "    <tr>\n",
       "      <th>3</th>\n",
       "      <td>4316.62</td>\n",
       "      <td>4349.99</td>\n",
       "      <td>4287.41</td>\n",
       "      <td>4349.99</td>\n",
       "      <td>4.443249</td>\n",
       "      <td>2017-08-17 07:00:00</td>\n",
       "    </tr>\n",
       "    <tr>\n",
       "      <th>4</th>\n",
       "      <td>4333.32</td>\n",
       "      <td>4377.85</td>\n",
       "      <td>4333.32</td>\n",
       "      <td>4360.69</td>\n",
       "      <td>0.972807</td>\n",
       "      <td>2017-08-17 08:00:00</td>\n",
       "    </tr>\n",
       "    <tr>\n",
       "      <th>...</th>\n",
       "      <td>...</td>\n",
       "      <td>...</td>\n",
       "      <td>...</td>\n",
       "      <td>...</td>\n",
       "      <td>...</td>\n",
       "      <td>...</td>\n",
       "    </tr>\n",
       "    <tr>\n",
       "      <th>43953</th>\n",
       "      <td>20018.00</td>\n",
       "      <td>20040.40</td>\n",
       "      <td>19941.83</td>\n",
       "      <td>20007.99</td>\n",
       "      <td>4374.049180</td>\n",
       "      <td>2022-08-27 20:00:00</td>\n",
       "    </tr>\n",
       "    <tr>\n",
       "      <th>43954</th>\n",
       "      <td>20007.99</td>\n",
       "      <td>20029.84</td>\n",
       "      <td>19870.01</td>\n",
       "      <td>19873.06</td>\n",
       "      <td>2779.324280</td>\n",
       "      <td>2022-08-27 21:00:00</td>\n",
       "    </tr>\n",
       "    <tr>\n",
       "      <th>43955</th>\n",
       "      <td>19874.25</td>\n",
       "      <td>20103.57</td>\n",
       "      <td>19858.43</td>\n",
       "      <td>20020.08</td>\n",
       "      <td>8501.926530</td>\n",
       "      <td>2022-08-27 22:00:00</td>\n",
       "    </tr>\n",
       "    <tr>\n",
       "      <th>43956</th>\n",
       "      <td>20021.35</td>\n",
       "      <td>20087.65</td>\n",
       "      <td>19992.55</td>\n",
       "      <td>20037.60</td>\n",
       "      <td>5025.547650</td>\n",
       "      <td>2022-08-27 23:00:00</td>\n",
       "    </tr>\n",
       "    <tr>\n",
       "      <th>43957</th>\n",
       "      <td>20037.60</td>\n",
       "      <td>20051.22</td>\n",
       "      <td>19926.78</td>\n",
       "      <td>19992.16</td>\n",
       "      <td>5346.543810</td>\n",
       "      <td>2022-08-28 00:00:00</td>\n",
       "    </tr>\n",
       "  </tbody>\n",
       "</table>\n",
       "<p>43958 rows × 6 columns</p>\n",
       "</div>"
      ],
      "text/plain": [
       "           open      high       low     close       volume  \\\n",
       "0       4261.48   4313.62   4261.32   4308.83    47.181009   \n",
       "1       4308.83   4328.69   4291.37   4315.32    23.234916   \n",
       "2       4330.29   4345.45   4309.37   4324.35     7.229691   \n",
       "3       4316.62   4349.99   4287.41   4349.99     4.443249   \n",
       "4       4333.32   4377.85   4333.32   4360.69     0.972807   \n",
       "...         ...       ...       ...       ...          ...   \n",
       "43953  20018.00  20040.40  19941.83  20007.99  4374.049180   \n",
       "43954  20007.99  20029.84  19870.01  19873.06  2779.324280   \n",
       "43955  19874.25  20103.57  19858.43  20020.08  8501.926530   \n",
       "43956  20021.35  20087.65  19992.55  20037.60  5025.547650   \n",
       "43957  20037.60  20051.22  19926.78  19992.16  5346.543810   \n",
       "\n",
       "                      date  \n",
       "0      2017-08-17 04:00:00  \n",
       "1      2017-08-17 05:00:00  \n",
       "2      2017-08-17 06:00:00  \n",
       "3      2017-08-17 07:00:00  \n",
       "4      2017-08-17 08:00:00  \n",
       "...                    ...  \n",
       "43953  2022-08-27 20:00:00  \n",
       "43954  2022-08-27 21:00:00  \n",
       "43955  2022-08-27 22:00:00  \n",
       "43956  2022-08-27 23:00:00  \n",
       "43957  2022-08-28 00:00:00  \n",
       "\n",
       "[43958 rows x 6 columns]"
      ]
     },
     "execution_count": 3,
     "metadata": {},
     "output_type": "execute_result"
    }
   ],
   "source": [
    "# Get data\n",
    "symbol = \"BTCUSDT\"\n",
    "timeFrame = \"1h\"\n",
    "startDate = \"2017-01-01\"\n",
    "endDate = \"2022-08-28\"\n",
    "client = Client()\n",
    "bars = client.get_historical_klines(symbol=symbol,interval=timeFrame,start_str=startDate, end_str = endDate)\n",
    "df = pd.DataFrame(bars[:],columns=[\"timestamp\",\"open\",\"high\",\"low\",\"close\",\"volume\", \"close_time\", \"quote_asset_volume\", \"number_of_trade\", \"TBB\", \"TBQ\", \"ignore\"])\n",
    "df[\"date\"]=pd.to_datetime(df[\"timestamp\"],unit=\"ms\").astype(str)\n",
    "df = df.drop([\"timestamp\", \"close_time\", \"quote_asset_volume\", \"number_of_trade\", \"TBB\", \"TBQ\", \"ignore\"], axis=1)\n",
    "df[\"open\"] = pd.to_numeric(df[\"open\"])\n",
    "df[\"high\"] = pd.to_numeric(df[\"high\"])\n",
    "df[\"low\"] = pd.to_numeric(df[\"low\"])\n",
    "df[\"close\"] = pd.to_numeric(df[\"close\"])\n",
    "df[\"volume\"] = pd.to_numeric(df[\"volume\"])\n",
    "df"
   ]
  },
  {
   "cell_type": "code",
   "execution_count": 4,
   "metadata": {},
   "outputs": [],
   "source": [
    "# Buy and hold\n",
    "buy_and_hold_parameters = {\n",
    "    \"name\":\"buy and hold\",                            ## str\n",
    "    \"start_money\" : 1000.0,                           ## float    \n",
    "    \"start_storage\" : 0.0,                            ## float\n",
    "    \"trading_fee_rate\" : 0.002,                       ## float\n",
    "    \"unit\" : 0.0001,                                  ## float\n",
    "}\n",
    "buy_and_hodl = Strategies.Buy_and_Hold(buy_and_hold_parameters)"
   ]
  },
  {
   "cell_type": "code",
   "execution_count": 5,
   "metadata": {},
   "outputs": [
    {
     "name": "stdout",
     "output_type": "stream",
     "text": [
      "*--------------------------------*\n",
      "strategy: buy and hold\n",
      "expected return: 121.7750752080959\n",
      "sharpe ratio: 0.6863524542570872\n"
     ]
    }
   ],
   "source": [
    "sharpe_ratio, expected_return = Strategy_Analysis_Tool.Analysis_tool.Shape_Ratio(buy_and_hodl, df, 0.02, window_size=10000, window_off=1000)\n",
    "print(\"*--------------------------------*\")\n",
    "print(\"strategy:\", buy_and_hodl.name)\n",
    "print(\"expected return:\", expected_return * 100)\n",
    "print(\"sharpe ratio:\", sharpe_ratio)"
   ]
  },
  {
   "cell_type": "code",
   "execution_count": 6,
   "metadata": {},
   "outputs": [
    {
     "data": {
      "image/png": "[encoded data removed]",
      "text/plain": [
       "<Figure size 432x288 with 1 Axes>"
      ]
     },
     "metadata": {
      "needs_background": "light"
     },
     "output_type": "display_data"
    },
    {
     "name": "stdout",
     "output_type": "stream",
     "text": [
      "*--------------------------------*\n",
      "strategy: buy and hold\n",
      "trading count: 2\n",
      "profit: 369.1365441114355\n",
      "MDD: 0.957469866475196\n"
     ]
    }
   ],
   "source": [
    "profit, trading_count, buy_record, sell_record, MDD = buy_and_hodl.back_test(df)\n",
    "print(\"*--------------------------------*\")\n",
    "print(\"strategy:\", buy_and_hodl.name)\n",
    "print(\"trading count:\", trading_count)\n",
    "print(\"profit:\", profit * 100)\n",
    "print(\"MDD:\", MDD)"
   ]
  }
 ],
 "metadata": {
  "kernelspec": {
   "display_name": "Python 3.10.6 64-bit",
   "language": "python",
   "name": "python3"
  },
  "language_info": {
   "codemirror_mode": {
    "name": "ipython",
    "version": 3
   },
   "file_extension": ".py",
   "mimetype": "text/x-python",
   "name": "python",
   "nbconvert_exporter": "python",
   "pygments_lexer": "ipython3",
   "version": "3.10.6"
  },
  "orig_nbformat": 4,
  "vscode": {
   "interpreter": {
    "hash": "97cc609b13305c559618ec78a438abc56230b9381f827f22d070313b9a1f3777"
   }
  }
 },
 "nbformat": 4,
 "nbformat_minor": 2
}
