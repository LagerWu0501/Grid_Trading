{
 "cells": [
  {
   "cell_type": "code",
   "execution_count": 19,
   "metadata": {},
   "outputs": [],
   "source": [
    "import numpy as np\n",
    "import pandas as pd\n",
    "import Strategies \n",
    "import Strategy_Analysis_Tool \n",
    "from binance.client import Client\n",
    "from matplotlib import pyplot as plt"
   ]
  },
  {
   "cell_type": "code",
   "execution_count": 20,
   "metadata": {},
   "outputs": [
    {
     "data": {
      "text/html": [
       "<div>\n",
       "<style scoped>\n",
       "    .dataframe tbody tr th:only-of-type {\n",
       "        vertical-align: middle;\n",
       "    }\n",
       "\n",
       "    .dataframe tbody tr th {\n",
       "        vertical-align: top;\n",
       "    }\n",
       "\n",
       "    .dataframe thead th {\n",
       "        text-align: right;\n",
       "    }\n",
       "</style>\n",
       "<table border=\"1\" class=\"dataframe\">\n",
       "  <thead>\n",
       "    <tr style=\"text-align: right;\">\n",
       "      <th></th>\n",
       "      <th>open</th>\n",
       "      <th>high</th>\n",
       "      <th>low</th>\n",
       "      <th>close</th>\n",
       "      <th>volume</th>\n",
       "      <th>date</th>\n",
       "    </tr>\n",
       "  </thead>\n",
       "  <tbody>\n",
       "    <tr>\n",
       "      <th>0</th>\n",
       "      <td>4261.48</td>\n",
       "      <td>4280.56</td>\n",
       "      <td>4261.48</td>\n",
       "      <td>4261.48</td>\n",
       "      <td>2.189061</td>\n",
       "      <td>2017-08-17 04:00:00</td>\n",
       "    </tr>\n",
       "    <tr>\n",
       "      <th>1</th>\n",
       "      <td>4261.48</td>\n",
       "      <td>4270.41</td>\n",
       "      <td>4261.32</td>\n",
       "      <td>4261.45</td>\n",
       "      <td>9.119865</td>\n",
       "      <td>2017-08-17 04:15:00</td>\n",
       "    </tr>\n",
       "    <tr>\n",
       "      <th>2</th>\n",
       "      <td>4280.00</td>\n",
       "      <td>4310.07</td>\n",
       "      <td>4267.99</td>\n",
       "      <td>4310.07</td>\n",
       "      <td>21.923552</td>\n",
       "      <td>2017-08-17 04:30:00</td>\n",
       "    </tr>\n",
       "    <tr>\n",
       "      <th>3</th>\n",
       "      <td>4310.07</td>\n",
       "      <td>4313.62</td>\n",
       "      <td>4291.37</td>\n",
       "      <td>4308.83</td>\n",
       "      <td>13.948531</td>\n",
       "      <td>2017-08-17 04:45:00</td>\n",
       "    </tr>\n",
       "    <tr>\n",
       "      <th>4</th>\n",
       "      <td>4308.83</td>\n",
       "      <td>4328.69</td>\n",
       "      <td>4304.31</td>\n",
       "      <td>4304.31</td>\n",
       "      <td>5.101153</td>\n",
       "      <td>2017-08-17 05:00:00</td>\n",
       "    </tr>\n",
       "    <tr>\n",
       "      <th>...</th>\n",
       "      <td>...</td>\n",
       "      <td>...</td>\n",
       "      <td>...</td>\n",
       "      <td>...</td>\n",
       "      <td>...</td>\n",
       "      <td>...</td>\n",
       "    </tr>\n",
       "    <tr>\n",
       "      <th>170204</th>\n",
       "      <td>18894.53</td>\n",
       "      <td>18995.36</td>\n",
       "      <td>18881.51</td>\n",
       "      <td>18974.06</td>\n",
       "      <td>732.079530</td>\n",
       "      <td>2022-06-30 23:00:00</td>\n",
       "    </tr>\n",
       "    <tr>\n",
       "      <th>170205</th>\n",
       "      <td>18974.07</td>\n",
       "      <td>19029.20</td>\n",
       "      <td>18946.52</td>\n",
       "      <td>19017.33</td>\n",
       "      <td>823.169150</td>\n",
       "      <td>2022-06-30 23:15:00</td>\n",
       "    </tr>\n",
       "    <tr>\n",
       "      <th>170206</th>\n",
       "      <td>19017.33</td>\n",
       "      <td>19148.00</td>\n",
       "      <td>19008.03</td>\n",
       "      <td>19070.98</td>\n",
       "      <td>1046.106980</td>\n",
       "      <td>2022-06-30 23:30:00</td>\n",
       "    </tr>\n",
       "    <tr>\n",
       "      <th>170207</th>\n",
       "      <td>19070.98</td>\n",
       "      <td>19980.00</td>\n",
       "      <td>19057.18</td>\n",
       "      <td>19942.21</td>\n",
       "      <td>7071.408930</td>\n",
       "      <td>2022-06-30 23:45:00</td>\n",
       "    </tr>\n",
       "    <tr>\n",
       "      <th>170208</th>\n",
       "      <td>19942.21</td>\n",
       "      <td>19978.47</td>\n",
       "      <td>19658.97</td>\n",
       "      <td>19724.38</td>\n",
       "      <td>3063.822770</td>\n",
       "      <td>2022-07-01 00:00:00</td>\n",
       "    </tr>\n",
       "  </tbody>\n",
       "</table>\n",
       "<p>170209 rows × 6 columns</p>\n",
       "</div>"
      ],
      "text/plain": [
       "            open      high       low     close       volume  \\\n",
       "0        4261.48   4280.56   4261.48   4261.48     2.189061   \n",
       "1        4261.48   4270.41   4261.32   4261.45     9.119865   \n",
       "2        4280.00   4310.07   4267.99   4310.07    21.923552   \n",
       "3        4310.07   4313.62   4291.37   4308.83    13.948531   \n",
       "4        4308.83   4328.69   4304.31   4304.31     5.101153   \n",
       "...          ...       ...       ...       ...          ...   \n",
       "170204  18894.53  18995.36  18881.51  18974.06   732.079530   \n",
       "170205  18974.07  19029.20  18946.52  19017.33   823.169150   \n",
       "170206  19017.33  19148.00  19008.03  19070.98  1046.106980   \n",
       "170207  19070.98  19980.00  19057.18  19942.21  7071.408930   \n",
       "170208  19942.21  19978.47  19658.97  19724.38  3063.822770   \n",
       "\n",
       "                       date  \n",
       "0       2017-08-17 04:00:00  \n",
       "1       2017-08-17 04:15:00  \n",
       "2       2017-08-17 04:30:00  \n",
       "3       2017-08-17 04:45:00  \n",
       "4       2017-08-17 05:00:00  \n",
       "...                     ...  \n",
       "170204  2022-06-30 23:00:00  \n",
       "170205  2022-06-30 23:15:00  \n",
       "170206  2022-06-30 23:30:00  \n",
       "170207  2022-06-30 23:45:00  \n",
       "170208  2022-07-01 00:00:00  \n",
       "\n",
       "[170209 rows x 6 columns]"
      ]
     },
     "execution_count": 20,
     "metadata": {},
     "output_type": "execute_result"
    }
   ],
   "source": [
    "# Get data\n",
    "symbol = \"BTCUSDT\"\n",
    "timeFrame = \"15m\"\n",
    "startDate = \"2017-01-01\"\n",
    "endDate = \"2022-07-01\"\n",
    "client = Client()\n",
    "bars = client.get_historical_klines(symbol=symbol,interval=timeFrame,start_str=startDate, end_str = endDate)\n",
    "df = pd.DataFrame(bars[:],columns=[\"timestamp\",\"open\",\"high\",\"low\",\"close\",\"volume\", \"close_time\", \"quote_asset_volume\", \"number_of_trade\", \"TBB\", \"TBQ\", \"ignore\"])\n",
    "df[\"date\"]=pd.to_datetime(df[\"timestamp\"],unit=\"ms\").astype(str)\n",
    "df = df.drop([\"timestamp\", \"close_time\", \"quote_asset_volume\", \"number_of_trade\", \"TBB\", \"TBQ\", \"ignore\"], axis=1)\n",
    "df[\"open\"] = pd.to_numeric(df[\"open\"])\n",
    "df[\"high\"] = pd.to_numeric(df[\"high\"])\n",
    "df[\"low\"] = pd.to_numeric(df[\"low\"])\n",
    "df[\"close\"] = pd.to_numeric(df[\"close\"])\n",
    "df[\"volume\"] = pd.to_numeric(df[\"volume\"])\n",
    "df"
   ]
  },
  {
   "cell_type": "code",
   "execution_count": 21,
   "metadata": {},
   "outputs": [],
   "source": [
    "# Grid strategy\n",
    "grid_parameters = {\n",
    "    \"name\":\"grid\",                                    ## str\n",
    "    \"start_money\" : 1000.0,                           ## float    \n",
    "    \"start_storage\" : 0.0,                            ## float\n",
    "    \"trading_fee_rate\" : 0.002,                       ## float\n",
    "    \"unit\" : 0.0001,                                  ## float\n",
    "    \"grid_number\" : 10,                               ## int  \n",
    "    \"equal_Diff_or_Ratio\" : \"RATIO\",                   ## \"DIFF\", \"RATIO\"\n",
    "    \"trading_logistic\":\"both\",                        ## \"long\", \"short\", \"both\"\n",
    "    \"initial_setup\":{\"type\":\"None\", \"protion\":0.0},   ## \"type\": \"long\", \"short\" | \"None\". \"portion\" : float\n",
    "    \"lowest_price\" : 4000.0,                          ## float\n",
    "    \"highest_price\" : 60000.0                         ## float\n",
    "}\n",
    "myGrid = Strategies.Grid(grid_parameters)\n",
    "# Buy and hold\n",
    "buy_and_hold_parameters = {\n",
    "    \"name\":\"buy and hold\",                            ## str\n",
    "    \"start_money\" : 1000.0,                           ## float    \n",
    "    \"start_storage\" : 0.0,                            ## float\n",
    "    \"trading_fee_rate\" : 0.002,                       ## float\n",
    "    \"unit\" : 0.0001,                                  ## float\n",
    "}\n",
    "buy_and_hodl = Strategies.Buy_and_Hold(buy_and_hold_parameters)"
   ]
  },
  {
   "cell_type": "code",
   "execution_count": 23,
   "metadata": {},
   "outputs": [
    {
     "name": "stdout",
     "output_type": "stream",
     "text": [
      "strategy: grid , expected return: 0.0252970448995671 , sharpe ratio: -9.165049912682745\n",
      "strategy: buy and hold , expected return: 26.43214881613246 , sharpe ratio: 0.34813261549621866\n"
     ]
    },
    {
     "data": {
      "image/png": "[encoded data removed]",
      "text/plain": [
       "<Figure size 432x288 with 1 Axes>"
      ]
     },
     "metadata": {
      "needs_background": "light"
     },
     "output_type": "display_data"
    },
    {
     "name": "stdout",
     "output_type": "stream",
     "text": [
      "strategy: grid , trading count: 4 , profit: 0.19098275996267375 MDD: 0.0019061871108723408\n"
     ]
    },
    {
     "data": {
      "image/png": "[encoded data removed]",
      "text/plain": [
       "<Figure size 432x288 with 1 Axes>"
      ]
     },
     "metadata": {
      "needs_background": "light"
     },
     "output_type": "display_data"
    },
    {
     "name": "stdout",
     "output_type": "stream",
     "text": [
      "strategy: buy and hold , trading count: 2 , profit: 362.85281169922195 MDD: 0.9589632546504674\n"
     ]
    }
   ],
   "source": [
    "sharpe_ratio, expected_return = Strategy_Analysis_Tool.Analysis_tool.Shape_Ratio(myGrid, df, 0.02, window_size=10000, window_off=10000)\n",
    "print(\"strategy:\", myGrid.name, \", expected return:\", expected_return * 100, \", sharpe ratio:\", sharpe_ratio)\n",
    "sharpe_ratio, expected_return = Strategy_Analysis_Tool.Analysis_tool.Shape_Ratio(buy_and_hodl, df, 0.02, window_size=10000, window_off=10000)\n",
    "print(\"strategy:\", buy_and_hodl.name, \", expected return:\", expected_return * 100, \", sharpe ratio:\", sharpe_ratio)\n",
    "\n",
    "profit, trading_count, buy_record, sell_record, MDD = myGrid.back_test(df)\n",
    "print(\"strategy:\", myGrid.name, \", trading count:\", trading_count, \", profit:\", profit * 100, \"MDD:\", MDD)\n",
    "profit, trading_count, buy_record, sell_record, MDD = buy_and_hodl.back_test(df)\n",
    "print(\"strategy:\", buy_and_hodl.name, \", trading count:\", trading_count, \", profit:\", profit * 100, \"MDD:\", MDD)"
   ]
  }
 ],
 "metadata": {
  "kernelspec": {
   "display_name": "Python 3.10.6 64-bit",
   "language": "python",
   "name": "python3"
  },
  "language_info": {
   "codemirror_mode": {
    "name": "ipython",
    "version": 3
   },
   "file_extension": ".py",
   "mimetype": "text/x-python",
   "name": "python",
   "nbconvert_exporter": "python",
   "pygments_lexer": "ipython3",
   "version": "3.10.6"
  },
  "orig_nbformat": 4,
  "vscode": {
   "interpreter": {
    "hash": "97cc609b13305c559618ec78a438abc56230b9381f827f22d070313b9a1f3777"
   }
  }
 },
 "nbformat": 4,
 "nbformat_minor": 2
}
