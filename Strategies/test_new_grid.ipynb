{
 "cells": [
  {
   "cell_type": "code",
   "execution_count": 1,
   "metadata": {},
   "outputs": [],
   "source": [
    "import numpy as np\n",
    "import pandas as pd\n",
    "from Grid import Grid\n",
    "from binance.client import Client\n",
    "from matplotlib import pyplot as plt"
   ]
  },
  {
   "cell_type": "code",
   "execution_count": 2,
   "metadata": {},
   "outputs": [],
   "source": [
    "symbol = \"BTCUSDT\"\n",
    "coin = \"BTC\"\n",
    "timeFrame = \"4h\"\n",
    "startDate = \"2019-07-22\"\n",
    "endDate = \"2022-07-22\"\n",
    "client = Client()\n",
    "bars = client.get_historical_klines(symbol=f'{coin}USDT',interval=timeFrame,start_str=startDate, end_str = endDate)\n",
    "test_df = pd.DataFrame(bars[:],columns=[\"timestamp\",\"open\",\"high\",\"low\",\"close\",\"volume\", \"close_time\", \"quote_asset_volume\", \"number_of_trade\", \"TBB\", \"TBQ\", \"ignore\"])\n",
    "test_df[\"date\"]=pd.to_datetime(test_df[\"timestamp\"],unit=\"ms\").astype(str)\n",
    "test_df = test_df.drop([\"timestamp\", \"close_time\", \"quote_asset_volume\", \"number_of_trade\", \"TBB\", \"TBQ\", \"ignore\"], axis=1)\n",
    "test_df[\"open\"] = pd.to_numeric(test_df[\"open\"])\n",
    "test_df[\"high\"] = pd.to_numeric(test_df[\"high\"])\n",
    "test_df[\"low\"] = pd.to_numeric(test_df[\"low\"])\n",
    "test_df[\"close\"] = pd.to_numeric(test_df[\"close\"])\n",
    "test_df[\"volume\"] = pd.to_numeric(test_df[\"volume\"])"
   ]
  },
  {
   "cell_type": "code",
   "execution_count": 3,
   "metadata": {},
   "outputs": [],
   "source": [
    "parameters = {\n",
    "    \"name\":\"grid\",                                    ## str\n",
    "    \"start_money\" : 1000.0,                           ## float    \n",
    "    \"start_storage\" : 0.0,                            ## float\n",
    "    \"trading_fee_rate\" : 0.002,                       ## float\n",
    "    \"buy_unit\" : 0.0001,                              ## float\n",
    "    \"grid_number\" : 50,                               ## int  \n",
    "    \"equal_Diff_or_Ratio\" : \"DIFF\",                   ## \"DIFF\", \"RATIO\"\n",
    "    \"trading_logistic\":\"both\",                       ## \"long\", \"short\", \"both\"\n",
    "    \"initial_setup\":{\"type\":\"None\", \"protion\":0.0},   ## \"type\": \"long\", \"short\" | \"None\". \"portion\" : float\n",
    "    \"lowest_price\" : 3000.0,                          ## float\n",
    "    \"highest_price\" : 20000.0                         ## float\n",
    "}\n",
    "\n",
    "myGrid = Grid(parameters)"
   ]
  },
  {
   "cell_type": "code",
   "execution_count": 4,
   "metadata": {},
   "outputs": [
    {
     "name": "stdout",
     "output_type": "stream",
     "text": [
      "buy\n",
      "buy\n",
      "buy\n",
      "buy\n",
      "sell\n",
      "sell\n",
      "sell\n",
      "sell\n",
      "sell\n",
      "sell\n",
      "sell\n",
      "sell\n",
      "buy\n",
      "buy\n"
     ]
    },
    {
     "data": {
      "text/plain": [
       "<matplotlib.collections.PathCollection at 0x7f41292feaa0>"
      ]
     },
     "execution_count": 4,
     "metadata": {},
     "output_type": "execute_result"
    },
    {
     "data": {
      "image/png": "[encoded data removed]",
      "text/plain": [
       "<Figure size 432x288 with 1 Axes>"
      ]
     },
     "metadata": {
      "needs_background": "light"
     },
     "output_type": "display_data"
    }
   ],
   "source": [
    "profit, trading_count, buy_record, sell_record = myGrid.back_test(test_df.iloc[:100])\n",
    "fig, ax = plt.subplots()\n",
    "ax.set_yticks(myGrid.grid, minor=False)\n",
    "ax.plot(test_df[\"close\"][:100])\n",
    "ax.yaxis.grid(True, which='major')\n",
    "plt.scatter(buy_record[0], buy_record[1])\n",
    "plt.scatter(sell_record[0], sell_record[1])"
   ]
  }
 ],
 "metadata": {
  "kernelspec": {
   "display_name": "Python 3.10.5 64-bit",
   "language": "python",
   "name": "python3"
  },
  "language_info": {
   "codemirror_mode": {
    "name": "ipython",
    "version": 3
   },
   "file_extension": ".py",
   "mimetype": "text/x-python",
   "name": "python",
   "nbconvert_exporter": "python",
   "pygments_lexer": "ipython3",
   "version": "3.10.5"
  },
  "orig_nbformat": 4,
  "vscode": {
   "interpreter": {
    "hash": "97cc609b13305c559618ec78a438abc56230b9381f827f22d070313b9a1f3777"
   }
  }
 },
 "nbformat": 4,
 "nbformat_minor": 2
}
