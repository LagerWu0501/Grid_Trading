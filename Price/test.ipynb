{
 "cells": [
  {
   "cell_type": "code",
   "execution_count": 58,
   "metadata": {},
   "outputs": [],
   "source": [
    "import numpy as np\n",
    "import pandas as pd\n",
    "import os\n",
    "import datetime\n",
    "from dateutil.relativedelta import relativedelta\n",
    "from binance.client import Client\n",
    "from os.path import exists"
   ]
  },
  {
   "cell_type": "code",
   "execution_count": 59,
   "metadata": {},
   "outputs": [],
   "source": [
    "client = Client()\n",
    "exchange_info = client.get_exchange_info()\n",
    "symbols = []\n",
    "for symbol in exchange_info[\"symbols\"]:\n",
    "    symbols.append(symbol[\"symbol\"])"
   ]
  },
  {
   "cell_type": "code",
   "execution_count": 60,
   "metadata": {},
   "outputs": [],
   "source": [
    "intervals = [\"1M\", \"1w\", \"3d\", \"1d\", \"12h\", \"8h\", \"6h\", \"4h\", \"2h\", \"1h\", \"30m\", \"15m\", \"5m\", \"3m\", \"1m\"]\n",
    "now = datetime.datetime.now()"
   ]
  },
  {
   "cell_type": "code",
   "execution_count": 61,
   "metadata": {},
   "outputs": [
    {
     "name": "stdout",
     "output_type": "stream",
     "text": [
      "ETHBTC\n",
      ">> 1M 1w 3d 1d 12h 8h 6h 4h 2h 1h 30m 15m 5m 3m "
     ]
    }
   ],
   "source": [
    "for symbol in symbols:\n",
    "    if (not exists(symbol)):\n",
    "        os.mkdir(symbol)\n",
    "        for interval in intervals:\n",
    "            if interval == \"1M\":\n",
    "                os.mkdir(symbol + \"/\" + \"1Month\")\n",
    "            else:\n",
    "                os.mkdir(symbol + \"/\" + interval)\n",
    "    print(symbol)\n",
    "    print(\">> \", end = \"\")\n",
    "    for interval in intervals:\n",
    "        print(interval, end=\" \")\n",
    "        startDate = datetime.datetime(2016,1,1,0,0)\n",
    "        if interval == \"1m\" or interval == \"3m\" or interval == \"5m\" or interval == \"15m\" or interval == \"30m\":\n",
    "            endDate = startDate + relativedelta(months=3)\n",
    "        elif interval == \"1h\" or interval == \"2h\" or interval == \"4h\" or interval == \"6h\":\n",
    "            endDate = startDate + relativedelta(months=6)\n",
    "        elif interval == \"8h\" or interval == \"12h\" or interval == \"1d\" or interval == \"3d\":\n",
    "            endDate = startDate + relativedelta(months=12)\n",
    "        elif interval == \"1w\" or interval == \"1M\": \n",
    "            endDate = startDate + relativedelta(years=3)\n",
    "        endDate -= datetime.timedelta(seconds=1)\n",
    "\n",
    "        start_str = str(startDate).split()[0]\n",
    "        end_str = str(endDate).split()[0]\n",
    "        while endDate < now:\n",
    "            if (interval == \"1m\"):\n",
    "                startDate = datetime.datetime(2016,1,1,0,0)\n",
    "                endDate = startDate + relativedelta(months=3)\n",
    "                endDate -= datetime.timedelta(seconds=1)\n",
    "                start_str = str(startDate).split()[0]\n",
    "                end_str = str(endDate).split()[0]\n",
    "\n",
    "\n",
    "            bars = client.get_historical_klines(symbol=symbol,interval=interval,start_str=start_str, end_str=end_str)\n",
    "            test_df = pd.DataFrame(bars[:],columns=[\"timestamp\",\"open\",\"high\",\"low\",\"close\",\"volume\", \"close_time\", \"quote_asset_volume\", \"number_of_trade\", \"TBB\", \"TBQ\", \"ignore\"])\n",
    "            test_df[\"date\"]=pd.to_datetime(test_df[\"timestamp\"],unit=\"ms\").astype(str)\n",
    "            # test_df = test_df.drop([\"timestamp\", \"close_time\", \"quote_asset_volume\", \"number_of_trade\", \"TBB\", \"TBQ\", \"ignore\"], axis=1)\n",
    "            test_df[\"open\"] = pd.to_numeric(test_df[\"open\"])\n",
    "            test_df[\"high\"] = pd.to_numeric(test_df[\"high\"])\n",
    "            test_df[\"low\"] = pd.to_numeric(test_df[\"low\"])\n",
    "            test_df[\"close\"] = pd.to_numeric(test_df[\"close\"])\n",
    "            test_df[\"volume\"] = pd.to_numeric(test_df[\"volume\"])\n",
    "\n",
    "            if interval == \"1M\" and len(test_df) > 0:\n",
    "                test_df.to_csv(f'{symbol}/1Month/from_{start_str}_to_{end_str}.csv')\n",
    "            elif(len(test_df) > 0):\n",
    "                test_df.to_csv(f'{symbol}/{interval}/from_{start_str}_to_{end_str}.csv')\n",
    "\n",
    "            endDate += datetime.timedelta(seconds=1)\n",
    "            startDate = endDate\n",
    "            if interval == \"1m\" or interval == \"3m\" or interval == \"5m\" or interval == \"15m\" or interval == \"30m\":\n",
    "                endDate = startDate + relativedelta(months=3)\n",
    "            elif interval == \"1h\" or interval == \"2h\" or interval == \"4h\" or interval == \"6h\":\n",
    "                endDate = startDate + relativedelta(months=6)\n",
    "            elif interval == \"8h\" or interval == \"12h\" or interval == \"1d\" or interval == \"3d\":\n",
    "                endDate = startDate + relativedelta(months=12)\n",
    "            elif interval == \"1w\" or interval == \"1M\": \n",
    "                endDate = startDate + relativedelta(months=36)\n",
    "            endDate -= datetime.timedelta(seconds=1)\n",
    "\n",
    "            start_str = str(startDate).split()[0]\n",
    "            end_str = str(endDate).split()[0]\n",
    "    print()"
   ]
  }
 ],
 "metadata": {
  "kernelspec": {
   "display_name": "Python 3.10.5 64-bit",
   "language": "python",
   "name": "python3"
  },
  "language_info": {
   "codemirror_mode": {
    "name": "ipython",
    "version": 3
   },
   "file_extension": ".py",
   "mimetype": "text/x-python",
   "name": "python",
   "nbconvert_exporter": "python",
   "pygments_lexer": "ipython3",
   "version": "3.10.5"
  },
  "orig_nbformat": 4,
  "vscode": {
   "interpreter": {
    "hash": "97cc609b13305c559618ec78a438abc56230b9381f827f22d070313b9a1f3777"
   }
  }
 },
 "nbformat": 4,
 "nbformat_minor": 2
}
