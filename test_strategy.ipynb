{
 "cells": [
  {
   "cell_type": "code",
   "execution_count": 2,
   "metadata": {},
   "outputs": [],
   "source": [
    "import numpy as np\n",
    "import pandas as pd\n",
    "import Strategies \n",
    "import Strategy_Analysis_Tool as SAT\n",
    "from binance.client import Client\n",
    "from matplotlib import pyplot as plt"
   ]
  },
  {
   "cell_type": "code",
   "execution_count": 3,
   "metadata": {},
   "outputs": [
    {
     "data": {
      "text/html": [
       "<div>\n",
       "<style scoped>\n",
       "    .dataframe tbody tr th:only-of-type {\n",
       "        vertical-align: middle;\n",
       "    }\n",
       "\n",
       "    .dataframe tbody tr th {\n",
       "        vertical-align: top;\n",
       "    }\n",
       "\n",
       "    .dataframe thead th {\n",
       "        text-align: right;\n",
       "    }\n",
       "</style>\n",
       "<table border=\"1\" class=\"dataframe\">\n",
       "  <thead>\n",
       "    <tr style=\"text-align: right;\">\n",
       "      <th></th>\n",
       "      <th>open</th>\n",
       "      <th>high</th>\n",
       "      <th>low</th>\n",
       "      <th>close</th>\n",
       "      <th>volume</th>\n",
       "      <th>date</th>\n",
       "    </tr>\n",
       "  </thead>\n",
       "  <tbody>\n",
       "    <tr>\n",
       "      <th>0</th>\n",
       "      <td>23223.30</td>\n",
       "      <td>23241.80</td>\n",
       "      <td>23200.00</td>\n",
       "      <td>23232.33</td>\n",
       "      <td>180.74421</td>\n",
       "      <td>2022-07-21 00:00:00</td>\n",
       "    </tr>\n",
       "    <tr>\n",
       "      <th>1</th>\n",
       "      <td>23232.33</td>\n",
       "      <td>23261.82</td>\n",
       "      <td>23227.56</td>\n",
       "      <td>23236.17</td>\n",
       "      <td>110.18477</td>\n",
       "      <td>2022-07-21 00:01:00</td>\n",
       "    </tr>\n",
       "    <tr>\n",
       "      <th>2</th>\n",
       "      <td>23236.17</td>\n",
       "      <td>23280.21</td>\n",
       "      <td>23233.38</td>\n",
       "      <td>23261.54</td>\n",
       "      <td>172.32926</td>\n",
       "      <td>2022-07-21 00:02:00</td>\n",
       "    </tr>\n",
       "    <tr>\n",
       "      <th>3</th>\n",
       "      <td>23259.78</td>\n",
       "      <td>23286.57</td>\n",
       "      <td>23218.01</td>\n",
       "      <td>23271.81</td>\n",
       "      <td>138.26680</td>\n",
       "      <td>2022-07-21 00:03:00</td>\n",
       "    </tr>\n",
       "    <tr>\n",
       "      <th>4</th>\n",
       "      <td>23271.81</td>\n",
       "      <td>23313.21</td>\n",
       "      <td>23268.86</td>\n",
       "      <td>23295.74</td>\n",
       "      <td>208.49995</td>\n",
       "      <td>2022-07-21 00:04:00</td>\n",
       "    </tr>\n",
       "    <tr>\n",
       "      <th>...</th>\n",
       "      <td>...</td>\n",
       "      <td>...</td>\n",
       "      <td>...</td>\n",
       "      <td>...</td>\n",
       "      <td>...</td>\n",
       "      <td>...</td>\n",
       "    </tr>\n",
       "    <tr>\n",
       "      <th>1436</th>\n",
       "      <td>23172.45</td>\n",
       "      <td>23196.55</td>\n",
       "      <td>23164.88</td>\n",
       "      <td>23194.21</td>\n",
       "      <td>44.79838</td>\n",
       "      <td>2022-07-21 23:56:00</td>\n",
       "    </tr>\n",
       "    <tr>\n",
       "      <th>1437</th>\n",
       "      <td>23195.78</td>\n",
       "      <td>23196.27</td>\n",
       "      <td>23139.19</td>\n",
       "      <td>23148.07</td>\n",
       "      <td>76.89571</td>\n",
       "      <td>2022-07-21 23:57:00</td>\n",
       "    </tr>\n",
       "    <tr>\n",
       "      <th>1438</th>\n",
       "      <td>23151.54</td>\n",
       "      <td>23152.29</td>\n",
       "      <td>23133.03</td>\n",
       "      <td>23134.86</td>\n",
       "      <td>62.04912</td>\n",
       "      <td>2022-07-21 23:58:00</td>\n",
       "    </tr>\n",
       "    <tr>\n",
       "      <th>1439</th>\n",
       "      <td>23136.72</td>\n",
       "      <td>23161.46</td>\n",
       "      <td>23133.46</td>\n",
       "      <td>23152.19</td>\n",
       "      <td>44.86196</td>\n",
       "      <td>2022-07-21 23:59:00</td>\n",
       "    </tr>\n",
       "    <tr>\n",
       "      <th>1440</th>\n",
       "      <td>23152.19</td>\n",
       "      <td>23164.87</td>\n",
       "      <td>23136.87</td>\n",
       "      <td>23136.87</td>\n",
       "      <td>80.70746</td>\n",
       "      <td>2022-07-22 00:00:00</td>\n",
       "    </tr>\n",
       "  </tbody>\n",
       "</table>\n",
       "<p>1441 rows × 6 columns</p>\n",
       "</div>"
      ],
      "text/plain": [
       "          open      high       low     close     volume                 date\n",
       "0     23223.30  23241.80  23200.00  23232.33  180.74421  2022-07-21 00:00:00\n",
       "1     23232.33  23261.82  23227.56  23236.17  110.18477  2022-07-21 00:01:00\n",
       "2     23236.17  23280.21  23233.38  23261.54  172.32926  2022-07-21 00:02:00\n",
       "3     23259.78  23286.57  23218.01  23271.81  138.26680  2022-07-21 00:03:00\n",
       "4     23271.81  23313.21  23268.86  23295.74  208.49995  2022-07-21 00:04:00\n",
       "...        ...       ...       ...       ...        ...                  ...\n",
       "1436  23172.45  23196.55  23164.88  23194.21   44.79838  2022-07-21 23:56:00\n",
       "1437  23195.78  23196.27  23139.19  23148.07   76.89571  2022-07-21 23:57:00\n",
       "1438  23151.54  23152.29  23133.03  23134.86   62.04912  2022-07-21 23:58:00\n",
       "1439  23136.72  23161.46  23133.46  23152.19   44.86196  2022-07-21 23:59:00\n",
       "1440  23152.19  23164.87  23136.87  23136.87   80.70746  2022-07-22 00:00:00\n",
       "\n",
       "[1441 rows x 6 columns]"
      ]
     },
     "execution_count": 3,
     "metadata": {},
     "output_type": "execute_result"
    }
   ],
   "source": [
    "symbol = \"BTCUSDT\"\n",
    "coin = \"BTC\"\n",
    "timeFrame = \"1m\"\n",
    "startDate = \"2022-07-21\"\n",
    "endDate = \"2022-07-22\"\n",
    "client = Client()\n",
    "bars = client.get_historical_klines(symbol=f'{coin}USDT',interval=timeFrame,start_str=startDate, end_str = endDate)\n",
    "test_df = pd.DataFrame(bars[:],columns=[\"timestamp\",\"open\",\"high\",\"low\",\"close\",\"volume\", \"close_time\", \"quote_asset_volume\", \"number_of_trade\", \"TBB\", \"TBQ\", \"ignore\"])\n",
    "test_df[\"date\"]=pd.to_datetime(test_df[\"timestamp\"],unit=\"ms\").astype(str)\n",
    "test_df = test_df.drop([\"timestamp\", \"close_time\", \"quote_asset_volume\", \"number_of_trade\", \"TBB\", \"TBQ\", \"ignore\"], axis=1)\n",
    "test_df[\"open\"] = pd.to_numeric(test_df[\"open\"])\n",
    "test_df[\"high\"] = pd.to_numeric(test_df[\"high\"])\n",
    "test_df[\"low\"] = pd.to_numeric(test_df[\"low\"])\n",
    "test_df[\"close\"] = pd.to_numeric(test_df[\"close\"])\n",
    "test_df[\"volume\"] = pd.to_numeric(test_df[\"volume\"])\n",
    "test_df"
   ]
  },
  {
   "cell_type": "code",
   "execution_count": 4,
   "metadata": {},
   "outputs": [],
   "source": [
    "parameters = {\n",
    "    \"name\":\"grid\",                                    ## str\n",
    "    \"start_money\" : 1000.0,                           ## float    \n",
    "    \"start_storage\" : 0.0,                            ## float\n",
    "    \"trading_fee_rate\" : 0.002,                       ## float\n",
    "    \"buy_unit\" : 0.0001,                              ## float\n",
    "    \"grid_number\" : 50,                               ## int  \n",
    "    \"equal_Diff_or_Ratio\" : \"DIFF\",                   ## \"DIFF\", \"RATIO\"\n",
    "    \"trading_logistic\":\"long\",                       ## \"long\", \"short\", \"both\"\n",
    "    \"initial_setup\":{\"type\":\"None\", \"protion\":0.0},   ## \"type\": \"long\", \"short\" | \"None\". \"portion\" : float\n",
    "    \"lowest_price\" : 18000.0,                          ## float\n",
    "    \"highest_price\" : 24000.0                         ## float\n",
    "}\n",
    "\n",
    "myGrid = Strategies.Grid(parameters)\n",
    "# buy_and_hodl = Strategies.Buy_and_Hold(parameters)"
   ]
  },
  {
   "cell_type": "code",
   "execution_count": 5,
   "metadata": {},
   "outputs": [
    {
     "name": "stdout",
     "output_type": "stream",
     "text": [
      "trading count 41 profit 0.0007252709999987701\n"
     ]
    },
    {
     "data": {
      "image/png": "[encoded data removed]",
      "text/plain": [
       "<Figure size 432x288 with 1 Axes>"
      ]
     },
     "metadata": {
      "needs_background": "light"
     },
     "output_type": "display_data"
    },
    {
     "data": {
      "text/plain": [
       "-507.2113640676299"
      ]
     },
     "execution_count": 5,
     "metadata": {},
     "output_type": "execute_result"
    }
   ],
   "source": [
    "profit, trading_count, buy_record, sell_record = myGrid.back_test(test_df)\n",
    "print(\"trading count\", trading_count, \"profit\", profit)\n",
    "SAT.Analysis_tool.draw_backtest(myGrid, test_df, profit, trading_count, buy_record, sell_record)\n",
    "SAT.Analysis_tool.Shape_Ratio(myGrid, test_df, 0.02, window_size=100, window_off=100)"
   ]
  }
 ],
 "metadata": {
  "kernelspec": {
   "display_name": "Python 3.10.5 64-bit",
   "language": "python",
   "name": "python3"
  },
  "language_info": {
   "codemirror_mode": {
    "name": "ipython",
    "version": 3
   },
   "file_extension": ".py",
   "mimetype": "text/x-python",
   "name": "python",
   "nbconvert_exporter": "python",
   "pygments_lexer": "ipython3",
   "version": "3.10.6"
  },
  "orig_nbformat": 4,
  "vscode": {
   "interpreter": {
    "hash": "97cc609b13305c559618ec78a438abc56230b9381f827f22d070313b9a1f3777"
   }
  }
 },
 "nbformat": 4,
 "nbformat_minor": 2
}
