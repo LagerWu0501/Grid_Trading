{
 "cells": [
  {
   "cell_type": "code",
   "execution_count": 8,
   "metadata": {},
   "outputs": [],
   "source": [
    "import numpy as np\n",
    "import pandas as pd\n",
    "from binance.client import Client"
   ]
  },
  {
   "cell_type": "code",
   "execution_count": 9,
   "metadata": {},
   "outputs": [],
   "source": [
    "symbol = \"BTCUSDT\"\n",
    "coin = \"BTC\"\n",
    "timeFrame = \"12h\"\n",
    "startDate = \"2018-07-22\"\n",
    "Binance = {\"API\":\"MtK3YvsbesizJw7x8PzRKbcpnVDWE441aiCOjLn5qPBOX9ZLVBWCITgB8LwjBk7A\", \n",
    "           \"Secret\":\"YDGdHbK5dPkxI1noxuFLWhkE95N9jTJvwvX6uUBwAh0UhtMEzQXDhGCK2fi1aFDS\"}"
   ]
  },
  {
   "cell_type": "code",
   "execution_count": 10,
   "metadata": {},
   "outputs": [],
   "source": [
    "client = Client(Binance[\"API\"], Binance[\"Secret\"])"
   ]
  },
  {
   "cell_type": "code",
   "execution_count": 13,
   "metadata": {},
   "outputs": [],
   "source": [
    "bars = client.get_historical_klines(symbol=f'{coin}USDT',interval=timeFrame,start_str=startDate)\n",
    "test_df = pd.DataFrame(bars[:],columns=[\"timestamp\",\"open\",\"high\",\"low\",\"close\",\"volume\", \"close_time\", \"quote_asset_volume\", \"number_of_trade\", \"TBB\", \"TBQ\", \"ignore\"])\n",
    "test_df[\"date\"]=pd.to_datetime(test_df[\"timestamp\"],unit=\"ms\").astype(str)\n",
    "test_df = test_df.drop([\"timestamp\", \"close_time\", \"quote_asset_volume\", \"number_of_trade\", \"TBB\", \"TBQ\", \"ignore\"], axis=1)\n",
    "test_df[\"open\"] = pd.to_numeric(test_df[\"open\"])\n",
    "test_df[\"high\"] = pd.to_numeric(test_df[\"high\"])\n",
    "test_df[\"low\"] = pd.to_numeric(test_df[\"low\"])\n",
    "test_df[\"close\"] = pd.to_numeric(test_df[\"close\"])\n",
    "test_df[\"volume\"] = pd.to_numeric(test_df[\"volume\"])"
   ]
  },
  {
   "cell_type": "code",
   "execution_count": 14,
   "metadata": {},
   "outputs": [
    {
     "data": {
      "text/html": [
       "<div>\n",
       "<style scoped>\n",
       "    .dataframe tbody tr th:only-of-type {\n",
       "        vertical-align: middle;\n",
       "    }\n",
       "\n",
       "    .dataframe tbody tr th {\n",
       "        vertical-align: top;\n",
       "    }\n",
       "\n",
       "    .dataframe thead th {\n",
       "        text-align: right;\n",
       "    }\n",
       "</style>\n",
       "<table border=\"1\" class=\"dataframe\">\n",
       "  <thead>\n",
       "    <tr style=\"text-align: right;\">\n",
       "      <th></th>\n",
       "      <th>open</th>\n",
       "      <th>high</th>\n",
       "      <th>low</th>\n",
       "      <th>close</th>\n",
       "      <th>volume</th>\n",
       "      <th>date</th>\n",
       "    </tr>\n",
       "  </thead>\n",
       "  <tbody>\n",
       "    <tr>\n",
       "      <th>0</th>\n",
       "      <td>7399.25</td>\n",
       "      <td>7487.49</td>\n",
       "      <td>7339.00</td>\n",
       "      <td>7445.02</td>\n",
       "      <td>12592.755738</td>\n",
       "      <td>2018-07-22 00:00:00</td>\n",
       "    </tr>\n",
       "    <tr>\n",
       "      <th>1</th>\n",
       "      <td>7446.00</td>\n",
       "      <td>7582.40</td>\n",
       "      <td>7335.50</td>\n",
       "      <td>7394.79</td>\n",
       "      <td>17677.462702</td>\n",
       "      <td>2018-07-22 12:00:00</td>\n",
       "    </tr>\n",
       "    <tr>\n",
       "      <th>2</th>\n",
       "      <td>7394.78</td>\n",
       "      <td>7790.00</td>\n",
       "      <td>7375.00</td>\n",
       "      <td>7695.00</td>\n",
       "      <td>22373.761982</td>\n",
       "      <td>2018-07-23 00:00:00</td>\n",
       "    </tr>\n",
       "    <tr>\n",
       "      <th>3</th>\n",
       "      <td>7695.00</td>\n",
       "      <td>7833.00</td>\n",
       "      <td>7638.80</td>\n",
       "      <td>7721.01</td>\n",
       "      <td>19272.584689</td>\n",
       "      <td>2018-07-23 12:00:00</td>\n",
       "    </tr>\n",
       "    <tr>\n",
       "      <th>4</th>\n",
       "      <td>7721.65</td>\n",
       "      <td>8280.00</td>\n",
       "      <td>7696.00</td>\n",
       "      <td>8257.99</td>\n",
       "      <td>29216.912970</td>\n",
       "      <td>2018-07-24 00:00:00</td>\n",
       "    </tr>\n",
       "    <tr>\n",
       "      <th>...</th>\n",
       "      <td>...</td>\n",
       "      <td>...</td>\n",
       "      <td>...</td>\n",
       "      <td>...</td>\n",
       "      <td>...</td>\n",
       "      <td>...</td>\n",
       "    </tr>\n",
       "    <tr>\n",
       "      <th>2919</th>\n",
       "      <td>23728.55</td>\n",
       "      <td>24276.74</td>\n",
       "      <td>22906.19</td>\n",
       "      <td>23223.30</td>\n",
       "      <td>133477.069010</td>\n",
       "      <td>2022-07-20 12:00:00</td>\n",
       "    </tr>\n",
       "    <tr>\n",
       "      <th>2920</th>\n",
       "      <td>23223.30</td>\n",
       "      <td>23442.77</td>\n",
       "      <td>22466.34</td>\n",
       "      <td>22606.04</td>\n",
       "      <td>87061.173050</td>\n",
       "      <td>2022-07-21 00:00:00</td>\n",
       "    </tr>\n",
       "    <tr>\n",
       "      <th>2921</th>\n",
       "      <td>22607.92</td>\n",
       "      <td>23308.80</td>\n",
       "      <td>22341.46</td>\n",
       "      <td>23152.19</td>\n",
       "      <td>97756.508860</td>\n",
       "      <td>2022-07-21 12:00:00</td>\n",
       "    </tr>\n",
       "    <tr>\n",
       "      <th>2922</th>\n",
       "      <td>23152.19</td>\n",
       "      <td>23634.40</td>\n",
       "      <td>22805.89</td>\n",
       "      <td>23610.58</td>\n",
       "      <td>75700.059060</td>\n",
       "      <td>2022-07-22 00:00:00</td>\n",
       "    </tr>\n",
       "    <tr>\n",
       "      <th>2923</th>\n",
       "      <td>23612.15</td>\n",
       "      <td>23756.49</td>\n",
       "      <td>23360.40</td>\n",
       "      <td>23378.58</td>\n",
       "      <td>20788.547560</td>\n",
       "      <td>2022-07-22 12:00:00</td>\n",
       "    </tr>\n",
       "  </tbody>\n",
       "</table>\n",
       "<p>2924 rows × 6 columns</p>\n",
       "</div>"
      ],
      "text/plain": [
       "          open      high       low     close         volume  \\\n",
       "0      7399.25   7487.49   7339.00   7445.02   12592.755738   \n",
       "1      7446.00   7582.40   7335.50   7394.79   17677.462702   \n",
       "2      7394.78   7790.00   7375.00   7695.00   22373.761982   \n",
       "3      7695.00   7833.00   7638.80   7721.01   19272.584689   \n",
       "4      7721.65   8280.00   7696.00   8257.99   29216.912970   \n",
       "...        ...       ...       ...       ...            ...   \n",
       "2919  23728.55  24276.74  22906.19  23223.30  133477.069010   \n",
       "2920  23223.30  23442.77  22466.34  22606.04   87061.173050   \n",
       "2921  22607.92  23308.80  22341.46  23152.19   97756.508860   \n",
       "2922  23152.19  23634.40  22805.89  23610.58   75700.059060   \n",
       "2923  23612.15  23756.49  23360.40  23378.58   20788.547560   \n",
       "\n",
       "                     date  \n",
       "0     2018-07-22 00:00:00  \n",
       "1     2018-07-22 12:00:00  \n",
       "2     2018-07-23 00:00:00  \n",
       "3     2018-07-23 12:00:00  \n",
       "4     2018-07-24 00:00:00  \n",
       "...                   ...  \n",
       "2919  2022-07-20 12:00:00  \n",
       "2920  2022-07-21 00:00:00  \n",
       "2921  2022-07-21 12:00:00  \n",
       "2922  2022-07-22 00:00:00  \n",
       "2923  2022-07-22 12:00:00  \n",
       "\n",
       "[2924 rows x 6 columns]"
      ]
     },
     "execution_count": 14,
     "metadata": {},
     "output_type": "execute_result"
    }
   ],
   "source": [
    "test_df"
   ]
  },
  {
   "cell_type": "code",
   "execution_count": 3,
   "metadata": {},
   "outputs": [
    {
     "name": "stdout",
     "output_type": "stream",
     "text": [
      "[3000.0, 3116.0142101058277, 3236.514852527149, 3361.6754238977214, 3491.676130209611, 3626.7041462734915, 3766.9538852126416, 3912.6272783786494, 4063.934066091854, 4221.092099625125, 4384.327654865778, 4553.875758107241, 4729.980524439538, 4912.895509225806, 5102.884073170906, 5300.21976150775, 5505.186697847291, 5718.079993259245, 5939.206171172548, 6168.883608707295, 6407.442995073618, 6655.227807697479, 6912.594806758934, 7179.914548854862, 7457.5719205257765, 7745.966692414841, 8045.514094857029, 8356.645415727076, 8679.808621407099, 9015.469001767864, 9364.109840092422, 9726.233108906601, 10102.360192718252, 10493.03263870584, 10898.812936437216, 11320.285327741198, 11758.056647898027, 12212.757199359849, 12685.041659259181, 13175.590022012006, 13685.108578372658, 14214.330932350122, 14764.019057449932, 15334.964393762413, 15927.988987476863, 16543.946674462346, 17183.724309619243, 17848.243043771505, 18538.45964993817, 19255.367900893616, 20000.000000000044]\n"
     ]
    }
   ],
   "source": [
    "grid_number = 50\n",
    "expected_ROI = 0.01\n",
    "equal_Diff_or_Ratio = \"RATIO\"\n",
    "lowest_price, highest_price = 3000, 20000\n",
    "trading_fee_rate = 0.0001\n",
    "trading_day = 1\n",
    "\n",
    "mygrid = []\n",
    "dif = highest_price - lowest_price\n",
    "if (equal_Diff_or_Ratio == \"DIFF\"):\n",
    "    for i in range(grid_number + 1):\n",
    "        mygrid.append(lowest_price + i * dif / grid_number)\n",
    "elif (equal_Diff_or_Ratio == \"RATIO\"):\n",
    "    ratio = (highest_price / lowest_price)**(1/grid_number)\n",
    "    for i in range(grid_number + 1):\n",
    "        mygrid.append(lowest_price * ratio**i)"
   ]
  },
  {
   "cell_type": "code",
   "execution_count": null,
   "metadata": {},
   "outputs": [],
   "source": [
    "def buy(money, storage, price, cost):\n",
    "    return money - cost, storage "
   ]
  },
  {
   "cell_type": "code",
   "execution_count": 25,
   "metadata": {},
   "outputs": [
    {
     "name": "stdout",
     "output_type": "stream",
     "text": [
      "7399.25\n",
      "50\n"
     ]
    }
   ],
   "source": [
    "for i in range(len(test_df) - trading_day):\n",
    "    money = 1000\n",
    "    storage = 0\n",
    "    trading_unit = money / grid_number\n",
    "    grid_position = -1\n",
    "    for j in range(grid_number + 1):\n",
    "        if (test_df[\"open\"][i] > mygrid[j]):\n",
    "            grid_position = j\n",
    "    # trade or hodl\n",
    "    for j in range(trading_day):\n",
    "        if (grid_position == -1 and test_df[\"high\"] > lowest_price):\n",
    "            for k in range(grid_number + 1):\n",
    "                if (test_df[\"high\"] < mygrid[k]):\n",
    "                    money, storage = buy()\n",
    "    \n",
    "\n",
    "    # get trading profit, hodling profit, MDD\n",
    "    break"
   ]
  }
 ],
 "metadata": {
  "kernelspec": {
   "display_name": "Python 3.10.5 64-bit",
   "language": "python",
   "name": "python3"
  },
  "language_info": {
   "codemirror_mode": {
    "name": "ipython",
    "version": 3
   },
   "file_extension": ".py",
   "mimetype": "text/x-python",
   "name": "python",
   "nbconvert_exporter": "python",
   "pygments_lexer": "ipython3",
   "version": "3.10.5"
  },
  "orig_nbformat": 4,
  "vscode": {
   "interpreter": {
    "hash": "97cc609b13305c559618ec78a438abc56230b9381f827f22d070313b9a1f3777"
   }
  }
 },
 "nbformat": 4,
 "nbformat_minor": 2
}
