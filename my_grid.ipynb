{
 "cells": [
  {
   "cell_type": "code",
   "execution_count": null,
   "metadata": {},
   "outputs": [],
   "source": [
    "#If you have already installed the module python-binance, please skip this step\n",
    "!pip3 install python-binance\n",
    "#Here is the official website if you need more information about python-binance: https://python-binance.readthedocs.io/en/latest/overview.html"
   ]
  },
  {
   "cell_type": "code",
   "execution_count": 1,
   "metadata": {},
   "outputs": [],
   "source": [
    "import numpy as np\n",
    "import pandas as pd\n",
    "from Grid import Grid\n",
    "from binance.client import Client"
   ]
  },
  {
   "cell_type": "code",
   "execution_count": 2,
   "metadata": {},
   "outputs": [],
   "source": [
    "symbol = \"BTCUSDT\"\n",
    "coin = \"BTC\"\n",
    "timeFrame = \"4h\"\n",
    "startDate = \"2019-07-22\"\n",
    "endDate = \"2022-07-22\"\n",
    "Binance = {\"API\":\"MtK3YvsbesizJw7x8PzRKbcpnVDWE441aiCOjLn5qPBOX9ZLVBWCITgB8LwjBk7A\", \n",
    "           \"Secret\":\"YDGdHbK5dPkxI1noxuFLWhkE95N9jTJvwvX6uUBwAh0UhtMEzQXDhGCK2fi1aFDS\"}"
   ]
  },
  {
   "cell_type": "code",
   "execution_count": 3,
   "metadata": {},
   "outputs": [],
   "source": [
    "client = Client(Binance[\"API\"], Binance[\"Secret\"])"
   ]
  },
  {
   "cell_type": "code",
   "execution_count": 4,
   "metadata": {},
   "outputs": [],
   "source": [
    "bars = client.get_historical_klines(symbol=f'{coin}USDT',interval=timeFrame,start_str=startDate, end_str = endDate)\n",
    "test_df = pd.DataFrame(bars[:],columns=[\"timestamp\",\"open\",\"high\",\"low\",\"close\",\"volume\", \"close_time\", \"quote_asset_volume\", \"number_of_trade\", \"TBB\", \"TBQ\", \"ignore\"])\n",
    "test_df[\"date\"]=pd.to_datetime(test_df[\"timestamp\"],unit=\"ms\").astype(str)\n",
    "test_df = test_df.drop([\"timestamp\", \"close_time\", \"quote_asset_volume\", \"number_of_trade\", \"TBB\", \"TBQ\", \"ignore\"], axis=1)\n",
    "test_df[\"open\"] = pd.to_numeric(test_df[\"open\"])\n",
    "test_df[\"high\"] = pd.to_numeric(test_df[\"high\"])\n",
    "test_df[\"low\"] = pd.to_numeric(test_df[\"low\"])\n",
    "test_df[\"close\"] = pd.to_numeric(test_df[\"close\"])\n",
    "test_df[\"volume\"] = pd.to_numeric(test_df[\"volume\"])"
   ]
  },
  {
   "cell_type": "code",
   "execution_count": 5,
   "metadata": {},
   "outputs": [
    {
     "data": {
      "text/html": [
       "<div>\n",
       "<style scoped>\n",
       "    .dataframe tbody tr th:only-of-type {\n",
       "        vertical-align: middle;\n",
       "    }\n",
       "\n",
       "    .dataframe tbody tr th {\n",
       "        vertical-align: top;\n",
       "    }\n",
       "\n",
       "    .dataframe thead th {\n",
       "        text-align: right;\n",
       "    }\n",
       "</style>\n",
       "<table border=\"1\" class=\"dataframe\">\n",
       "  <thead>\n",
       "    <tr style=\"text-align: right;\">\n",
       "      <th></th>\n",
       "      <th>open</th>\n",
       "      <th>high</th>\n",
       "      <th>low</th>\n",
       "      <th>close</th>\n",
       "      <th>volume</th>\n",
       "      <th>date</th>\n",
       "    </tr>\n",
       "  </thead>\n",
       "  <tbody>\n",
       "    <tr>\n",
       "      <th>0</th>\n",
       "      <td>10590.15</td>\n",
       "      <td>10683.16</td>\n",
       "      <td>10552.00</td>\n",
       "      <td>10614.74</td>\n",
       "      <td>3019.256606</td>\n",
       "      <td>2019-07-22 00:00:00</td>\n",
       "    </tr>\n",
       "    <tr>\n",
       "      <th>1</th>\n",
       "      <td>10613.47</td>\n",
       "      <td>10642.66</td>\n",
       "      <td>10511.00</td>\n",
       "      <td>10603.21</td>\n",
       "      <td>4023.177652</td>\n",
       "      <td>2019-07-22 04:00:00</td>\n",
       "    </tr>\n",
       "    <tr>\n",
       "      <th>2</th>\n",
       "      <td>10603.39</td>\n",
       "      <td>10620.00</td>\n",
       "      <td>10407.30</td>\n",
       "      <td>10562.00</td>\n",
       "      <td>8024.209196</td>\n",
       "      <td>2019-07-22 08:00:00</td>\n",
       "    </tr>\n",
       "    <tr>\n",
       "      <th>3</th>\n",
       "      <td>10559.64</td>\n",
       "      <td>10588.00</td>\n",
       "      <td>10167.10</td>\n",
       "      <td>10238.43</td>\n",
       "      <td>11853.088262</td>\n",
       "      <td>2019-07-22 12:00:00</td>\n",
       "    </tr>\n",
       "    <tr>\n",
       "      <th>4</th>\n",
       "      <td>10240.81</td>\n",
       "      <td>10430.00</td>\n",
       "      <td>10100.00</td>\n",
       "      <td>10162.66</td>\n",
       "      <td>7855.224224</td>\n",
       "      <td>2019-07-22 16:00:00</td>\n",
       "    </tr>\n",
       "    <tr>\n",
       "      <th>...</th>\n",
       "      <td>...</td>\n",
       "      <td>...</td>\n",
       "      <td>...</td>\n",
       "      <td>...</td>\n",
       "      <td>...</td>\n",
       "      <td>...</td>\n",
       "    </tr>\n",
       "    <tr>\n",
       "      <th>6601</th>\n",
       "      <td>21090.22</td>\n",
       "      <td>21196.58</td>\n",
       "      <td>20706.50</td>\n",
       "      <td>20746.81</td>\n",
       "      <td>38069.879390</td>\n",
       "      <td>2022-07-26 12:00:00</td>\n",
       "    </tr>\n",
       "    <tr>\n",
       "      <th>6602</th>\n",
       "      <td>20746.81</td>\n",
       "      <td>21083.49</td>\n",
       "      <td>20734.79</td>\n",
       "      <td>20915.57</td>\n",
       "      <td>27918.741510</td>\n",
       "      <td>2022-07-26 16:00:00</td>\n",
       "    </tr>\n",
       "    <tr>\n",
       "      <th>6603</th>\n",
       "      <td>20911.55</td>\n",
       "      <td>21300.00</td>\n",
       "      <td>20809.53</td>\n",
       "      <td>21254.67</td>\n",
       "      <td>28947.946570</td>\n",
       "      <td>2022-07-26 20:00:00</td>\n",
       "    </tr>\n",
       "    <tr>\n",
       "      <th>6604</th>\n",
       "      <td>21254.67</td>\n",
       "      <td>21284.00</td>\n",
       "      <td>21042.53</td>\n",
       "      <td>21076.86</td>\n",
       "      <td>21881.708360</td>\n",
       "      <td>2022-07-27 00:00:00</td>\n",
       "    </tr>\n",
       "    <tr>\n",
       "      <th>6605</th>\n",
       "      <td>21076.86</td>\n",
       "      <td>21451.33</td>\n",
       "      <td>21059.00</td>\n",
       "      <td>21361.27</td>\n",
       "      <td>20308.816710</td>\n",
       "      <td>2022-07-27 04:00:00</td>\n",
       "    </tr>\n",
       "  </tbody>\n",
       "</table>\n",
       "<p>6606 rows × 6 columns</p>\n",
       "</div>"
      ],
      "text/plain": [
       "          open      high       low     close        volume  \\\n",
       "0     10590.15  10683.16  10552.00  10614.74   3019.256606   \n",
       "1     10613.47  10642.66  10511.00  10603.21   4023.177652   \n",
       "2     10603.39  10620.00  10407.30  10562.00   8024.209196   \n",
       "3     10559.64  10588.00  10167.10  10238.43  11853.088262   \n",
       "4     10240.81  10430.00  10100.00  10162.66   7855.224224   \n",
       "...        ...       ...       ...       ...           ...   \n",
       "6601  21090.22  21196.58  20706.50  20746.81  38069.879390   \n",
       "6602  20746.81  21083.49  20734.79  20915.57  27918.741510   \n",
       "6603  20911.55  21300.00  20809.53  21254.67  28947.946570   \n",
       "6604  21254.67  21284.00  21042.53  21076.86  21881.708360   \n",
       "6605  21076.86  21451.33  21059.00  21361.27  20308.816710   \n",
       "\n",
       "                     date  \n",
       "0     2019-07-22 00:00:00  \n",
       "1     2019-07-22 04:00:00  \n",
       "2     2019-07-22 08:00:00  \n",
       "3     2019-07-22 12:00:00  \n",
       "4     2019-07-22 16:00:00  \n",
       "...                   ...  \n",
       "6601  2022-07-26 12:00:00  \n",
       "6602  2022-07-26 16:00:00  \n",
       "6603  2022-07-26 20:00:00  \n",
       "6604  2022-07-27 00:00:00  \n",
       "6605  2022-07-27 04:00:00  \n",
       "\n",
       "[6606 rows x 6 columns]"
      ]
     },
     "execution_count": 5,
     "metadata": {},
     "output_type": "execute_result"
    }
   ],
   "source": [
    "test_df"
   ]
  },
  {
   "cell_type": "code",
   "execution_count": 6,
   "metadata": {},
   "outputs": [],
   "source": [
    "parameters = {\n",
    "    \"grid_number\" : 50,\n",
    "    \"equal_Diff_or_Ratio\" : \"DIFF\", \n",
    "    \"lowest_price\" : 3000, \n",
    "    \"highest_price\" : 20000,\n",
    "    \"start_money\" : 1000,\n",
    "    \"trading_fee_rate\" : 0.002,\n",
    "    \"buy_unit\" : 0.0001\n",
    "}\n",
    "\n",
    "myGrid = Grid(parameters)"
   ]
  },
  {
   "cell_type": "code",
   "execution_count": 7,
   "metadata": {},
   "outputs": [],
   "source": [
    "window_size = 2000\n",
    "profit = []\n",
    "for i in range(len(test_df) - window_size):\n",
    "    data = test_df.loc[i : i + window_size]\n",
    "    data.reset_index(inplace =True)\n",
    "    profit.append(myGrid.back_test_longOnly(data))"
   ]
  },
  {
   "cell_type": "code",
   "execution_count": 8,
   "metadata": {},
   "outputs": [
    {
     "name": "stdout",
     "output_type": "stream",
     "text": [
      "Sharpe ratio: -44.16587934078796\n"
     ]
    }
   ],
   "source": [
    "expected_return = np.average(profit)\n",
    "risk_free_rate = 0.0204\n",
    "standard_deviation = np.std(profit)\n",
    "\n",
    "print(\"Sharpe ratio:\", (expected_return - risk_free_rate) / standard_deviation)"
   ]
  }
 ],
 "metadata": {
  "kernelspec": {
   "display_name": "Python 3.10.5 64-bit",
   "language": "python",
   "name": "python3"
  },
  "language_info": {
   "codemirror_mode": {
    "name": "ipython",
    "version": 3
   },
   "file_extension": ".py",
   "mimetype": "text/x-python",
   "name": "python",
   "nbconvert_exporter": "python",
   "pygments_lexer": "ipython3",
   "version": "3.10.5"
  },
  "orig_nbformat": 4,
  "vscode": {
   "interpreter": {
    "hash": "97cc609b13305c559618ec78a438abc56230b9381f827f22d070313b9a1f3777"
   }
  }
 },
 "nbformat": 4,
 "nbformat_minor": 2
}
