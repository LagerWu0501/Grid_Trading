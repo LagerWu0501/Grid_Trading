{
 "cells": [
  {
   "cell_type": "code",
   "execution_count": 1,
   "metadata": {},
   "outputs": [],
   "source": [
    "import numpy as np\n",
    "import pandas as pd\n",
    "from Grid import Grid\n",
    "from binance.client import Client"
   ]
  },
  {
   "cell_type": "code",
   "execution_count": 2,
   "metadata": {},
   "outputs": [],
   "source": [
    "symbol = \"BTCUSDT\"\n",
    "coin = \"BTC\"\n",
    "timeFrame = \"4h\"\n",
    "startDate = \"2019-07-22\"\n",
    "Binance = {\"API\":\"MtK3YvsbesizJw7x8PzRKbcpnVDWE441aiCOjLn5qPBOX9ZLVBWCITgB8LwjBk7A\", \n",
    "           \"Secret\":\"YDGdHbK5dPkxI1noxuFLWhkE95N9jTJvwvX6uUBwAh0UhtMEzQXDhGCK2fi1aFDS\"}"
   ]
  },
  {
   "cell_type": "code",
   "execution_count": 3,
   "metadata": {},
   "outputs": [],
   "source": [
    "client = Client(Binance[\"API\"], Binance[\"Secret\"])"
   ]
  },
  {
   "cell_type": "code",
   "execution_count": 4,
   "metadata": {},
   "outputs": [],
   "source": [
    "bars = client.get_historical_klines(symbol=f'{coin}USDT',interval=timeFrame,start_str=startDate)\n",
    "test_df = pd.DataFrame(bars[:],columns=[\"timestamp\",\"open\",\"high\",\"low\",\"close\",\"volume\", \"close_time\", \"quote_asset_volume\", \"number_of_trade\", \"TBB\", \"TBQ\", \"ignore\"])\n",
    "test_df[\"date\"]=pd.to_datetime(test_df[\"timestamp\"],unit=\"ms\").astype(str)\n",
    "test_df = test_df.drop([\"timestamp\", \"close_time\", \"quote_asset_volume\", \"number_of_trade\", \"TBB\", \"TBQ\", \"ignore\"], axis=1)\n",
    "test_df[\"open\"] = pd.to_numeric(test_df[\"open\"])\n",
    "test_df[\"high\"] = pd.to_numeric(test_df[\"high\"])\n",
    "test_df[\"low\"] = pd.to_numeric(test_df[\"low\"])\n",
    "test_df[\"close\"] = pd.to_numeric(test_df[\"close\"])\n",
    "test_df[\"volume\"] = pd.to_numeric(test_df[\"volume\"])"
   ]
  },
  {
   "cell_type": "code",
   "execution_count": 10,
   "metadata": {},
   "outputs": [
    {
     "data": {
      "text/html": [
       "<div>\n",
       "<style scoped>\n",
       "    .dataframe tbody tr th:only-of-type {\n",
       "        vertical-align: middle;\n",
       "    }\n",
       "\n",
       "    .dataframe tbody tr th {\n",
       "        vertical-align: top;\n",
       "    }\n",
       "\n",
       "    .dataframe thead th {\n",
       "        text-align: right;\n",
       "    }\n",
       "</style>\n",
       "<table border=\"1\" class=\"dataframe\">\n",
       "  <thead>\n",
       "    <tr style=\"text-align: right;\">\n",
       "      <th></th>\n",
       "      <th>open</th>\n",
       "      <th>high</th>\n",
       "      <th>low</th>\n",
       "      <th>close</th>\n",
       "      <th>volume</th>\n",
       "      <th>date</th>\n",
       "    </tr>\n",
       "  </thead>\n",
       "  <tbody>\n",
       "    <tr>\n",
       "      <th>0</th>\n",
       "      <td>10590.15</td>\n",
       "      <td>10683.16</td>\n",
       "      <td>10552.00</td>\n",
       "      <td>10614.74</td>\n",
       "      <td>3019.256606</td>\n",
       "      <td>2019-07-22 00:00:00</td>\n",
       "    </tr>\n",
       "    <tr>\n",
       "      <th>1</th>\n",
       "      <td>10613.47</td>\n",
       "      <td>10642.66</td>\n",
       "      <td>10511.00</td>\n",
       "      <td>10603.21</td>\n",
       "      <td>4023.177652</td>\n",
       "      <td>2019-07-22 04:00:00</td>\n",
       "    </tr>\n",
       "    <tr>\n",
       "      <th>2</th>\n",
       "      <td>10603.39</td>\n",
       "      <td>10620.00</td>\n",
       "      <td>10407.30</td>\n",
       "      <td>10562.00</td>\n",
       "      <td>8024.209196</td>\n",
       "      <td>2019-07-22 08:00:00</td>\n",
       "    </tr>\n",
       "    <tr>\n",
       "      <th>3</th>\n",
       "      <td>10559.64</td>\n",
       "      <td>10588.00</td>\n",
       "      <td>10167.10</td>\n",
       "      <td>10238.43</td>\n",
       "      <td>11853.088262</td>\n",
       "      <td>2019-07-22 12:00:00</td>\n",
       "    </tr>\n",
       "    <tr>\n",
       "      <th>4</th>\n",
       "      <td>10240.81</td>\n",
       "      <td>10430.00</td>\n",
       "      <td>10100.00</td>\n",
       "      <td>10162.66</td>\n",
       "      <td>7855.224224</td>\n",
       "      <td>2019-07-22 16:00:00</td>\n",
       "    </tr>\n",
       "    <tr>\n",
       "      <th>...</th>\n",
       "      <td>...</td>\n",
       "      <td>...</td>\n",
       "      <td>...</td>\n",
       "      <td>...</td>\n",
       "      <td>...</td>\n",
       "      <td>...</td>\n",
       "    </tr>\n",
       "    <tr>\n",
       "      <th>6586</th>\n",
       "      <td>22448.58</td>\n",
       "      <td>22677.37</td>\n",
       "      <td>22288.00</td>\n",
       "      <td>22331.86</td>\n",
       "      <td>14961.070670</td>\n",
       "      <td>2022-07-24 00:00:00</td>\n",
       "    </tr>\n",
       "    <tr>\n",
       "      <th>6587</th>\n",
       "      <td>22331.86</td>\n",
       "      <td>22839.99</td>\n",
       "      <td>22257.15</td>\n",
       "      <td>22701.60</td>\n",
       "      <td>20882.527650</td>\n",
       "      <td>2022-07-24 04:00:00</td>\n",
       "    </tr>\n",
       "    <tr>\n",
       "      <th>6588</th>\n",
       "      <td>22704.09</td>\n",
       "      <td>22822.81</td>\n",
       "      <td>22480.00</td>\n",
       "      <td>22657.63</td>\n",
       "      <td>19335.213920</td>\n",
       "      <td>2022-07-24 08:00:00</td>\n",
       "    </tr>\n",
       "    <tr>\n",
       "      <th>6589</th>\n",
       "      <td>22657.63</td>\n",
       "      <td>22911.31</td>\n",
       "      <td>22444.00</td>\n",
       "      <td>22847.08</td>\n",
       "      <td>23259.237810</td>\n",
       "      <td>2022-07-24 12:00:00</td>\n",
       "    </tr>\n",
       "    <tr>\n",
       "      <th>6590</th>\n",
       "      <td>22847.08</td>\n",
       "      <td>22880.87</td>\n",
       "      <td>22630.00</td>\n",
       "      <td>22746.02</td>\n",
       "      <td>9540.809020</td>\n",
       "      <td>2022-07-24 16:00:00</td>\n",
       "    </tr>\n",
       "  </tbody>\n",
       "</table>\n",
       "<p>6591 rows × 6 columns</p>\n",
       "</div>"
      ],
      "text/plain": [
       "          open      high       low     close        volume  \\\n",
       "0     10590.15  10683.16  10552.00  10614.74   3019.256606   \n",
       "1     10613.47  10642.66  10511.00  10603.21   4023.177652   \n",
       "2     10603.39  10620.00  10407.30  10562.00   8024.209196   \n",
       "3     10559.64  10588.00  10167.10  10238.43  11853.088262   \n",
       "4     10240.81  10430.00  10100.00  10162.66   7855.224224   \n",
       "...        ...       ...       ...       ...           ...   \n",
       "6586  22448.58  22677.37  22288.00  22331.86  14961.070670   \n",
       "6587  22331.86  22839.99  22257.15  22701.60  20882.527650   \n",
       "6588  22704.09  22822.81  22480.00  22657.63  19335.213920   \n",
       "6589  22657.63  22911.31  22444.00  22847.08  23259.237810   \n",
       "6590  22847.08  22880.87  22630.00  22746.02   9540.809020   \n",
       "\n",
       "                     date  \n",
       "0     2019-07-22 00:00:00  \n",
       "1     2019-07-22 04:00:00  \n",
       "2     2019-07-22 08:00:00  \n",
       "3     2019-07-22 12:00:00  \n",
       "4     2019-07-22 16:00:00  \n",
       "...                   ...  \n",
       "6586  2022-07-24 00:00:00  \n",
       "6587  2022-07-24 04:00:00  \n",
       "6588  2022-07-24 08:00:00  \n",
       "6589  2022-07-24 12:00:00  \n",
       "6590  2022-07-24 16:00:00  \n",
       "\n",
       "[6591 rows x 6 columns]"
      ]
     },
     "execution_count": 10,
     "metadata": {},
     "output_type": "execute_result"
    }
   ],
   "source": [
    "test_df"
   ]
  },
  {
   "cell_type": "code",
   "execution_count": 6,
   "metadata": {},
   "outputs": [],
   "source": [
    "parameters = {\n",
    "    \"grid_number\" : 50,\n",
    "    \"equal_Diff_or_Ratio\" : \"DIFF\", \n",
    "    \"lowest_price\" : 3000, \n",
    "    \"highest_price\" : 20000,\n",
    "    \"start_money\" : 1000,\n",
    "    \"trading_fee_rate\" : 0.002,\n",
    "    \"buy_unit\" : 0.0001\n",
    "}\n",
    "\n",
    "myGrid = Grid(parameters)"
   ]
  },
  {
   "cell_type": "code",
   "execution_count": 8,
   "metadata": {},
   "outputs": [],
   "source": [
    "window_size = 2000\n",
    "profit = []\n",
    "for i in range(len(test_df) - window_size):\n",
    "    data = test_df.loc[i : i + window_size]\n",
    "    data.reset_index(inplace =True)\n",
    "    profit.append(myGrid.back_test_longOnly(data))"
   ]
  },
  {
   "cell_type": "code",
   "execution_count": 9,
   "metadata": {},
   "outputs": [
    {
     "name": "stdout",
     "output_type": "stream",
     "text": [
      "Sharpe ratio: -44.13402189117538\n"
     ]
    }
   ],
   "source": [
    "expected_return = np.average(profit)\n",
    "risk_free_rate = 0.0204\n",
    "standard_deviation = np.std(profit)\n",
    "\n",
    "print(\"Sharpe ratio:\", (expected_return - risk_free_rate) / standard_deviation)"
   ]
  }
 ],
 "metadata": {
  "kernelspec": {
   "display_name": "Python 3.10.5 64-bit",
   "language": "python",
   "name": "python3"
  },
  "language_info": {
   "codemirror_mode": {
    "name": "ipython",
    "version": 3
   },
   "file_extension": ".py",
   "mimetype": "text/x-python",
   "name": "python",
   "nbconvert_exporter": "python",
   "pygments_lexer": "ipython3",
   "version": "3.10.5"
  },
  "orig_nbformat": 4,
  "vscode": {
   "interpreter": {
    "hash": "97cc609b13305c559618ec78a438abc56230b9381f827f22d070313b9a1f3777"
   }
  }
 },
 "nbformat": 4,
 "nbformat_minor": 2
}
