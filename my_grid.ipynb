{
 "cells": [
  {
   "cell_type": "code",
   "execution_count": null,
   "metadata": {},
   "outputs": [],
   "source": [
    "#If you have already installed the module python-binance, please skip this step\n",
    "!pip3 install python-binance\n",
    "#Here is the official website if you need more information about python-binance: https://python-binance.readthedocs.io/en/latest/overview.html"
   ]
  },
  {
   "cell_type": "code",
   "execution_count": null,
   "metadata": {},
   "outputs": [],
   "source": [
    "import numpy as np\n",
    "import pandas as pd\n",
    "from Grid import Grid\n",
    "from binance.client import Client"
   ]
  },
  {
   "cell_type": "code",
   "execution_count": null,
   "metadata": {},
   "outputs": [],
   "source": [
    "symbol = \"BTCUSDT\"\n",
    "coin = \"BTC\"\n",
    "timeFrame = \"4h\"\n",
    "startDate = \"2019-07-22\"\n",
    "endDate = \"2022-07-22\"\n",
    "Binance = {\"API\":\"MtK3YvsbesizJw7x8PzRKbcpnVDWE441aiCOjLn5qPBOX9ZLVBWCITgB8LwjBk7A\", \n",
    "           \"Secret\":\"YDGdHbK5dPkxI1noxuFLWhkE95N9jTJvwvX6uUBwAh0UhtMEzQXDhGCK2fi1aFDS\"}"
   ]
  },
  {
   "cell_type": "code",
   "execution_count": null,
   "metadata": {},
   "outputs": [],
   "source": [
    "client = Client(Binance[\"API\"], Binance[\"Secret\"])"
   ]
  },
  {
   "cell_type": "code",
   "execution_count": null,
   "metadata": {},
   "outputs": [],
   "source": [
    "bars = client.get_historical_klines(symbol=f'{coin}USDT',interval=timeFrame,start_str=startDate, end_str = endDate)\n",
    "test_df = pd.DataFrame(bars[:],columns=[\"timestamp\",\"open\",\"high\",\"low\",\"close\",\"volume\", \"close_time\", \"quote_asset_volume\", \"number_of_trade\", \"TBB\", \"TBQ\", \"ignore\"])\n",
    "test_df[\"date\"]=pd.to_datetime(test_df[\"timestamp\"],unit=\"ms\").astype(str)\n",
    "test_df = test_df.drop([\"timestamp\", \"close_time\", \"quote_asset_volume\", \"number_of_trade\", \"TBB\", \"TBQ\", \"ignore\"], axis=1)\n",
    "test_df[\"open\"] = pd.to_numeric(test_df[\"open\"])\n",
    "test_df[\"high\"] = pd.to_numeric(test_df[\"high\"])\n",
    "test_df[\"low\"] = pd.to_numeric(test_df[\"low\"])\n",
    "test_df[\"close\"] = pd.to_numeric(test_df[\"close\"])\n",
    "test_df[\"volume\"] = pd.to_numeric(test_df[\"volume\"])"
   ]
  },
  {
   "cell_type": "code",
   "execution_count": null,
   "metadata": {},
   "outputs": [],
   "source": [
    "test_df"
   ]
  },
  {
   "cell_type": "code",
   "execution_count": null,
   "metadata": {},
   "outputs": [],
   "source": [
    "parameters = {\n",
    "    \"grid_number\" : 50,\n",
    "    \"equal_Diff_or_Ratio\" : \"DIFF\", \n",
    "    \"lowest_price\" : 3000, \n",
    "    \"highest_price\" : 20000,\n",
    "    \"start_money\" : 1000,\n",
    "    \"trading_fee_rate\" : 0.002,\n",
    "    \"buy_unit\" : 0.0001\n",
    "}\n",
    "\n",
    "myGrid = Grid(parameters)"
   ]
  },
  {
   "cell_type": "code",
   "execution_count": null,
   "metadata": {},
   "outputs": [],
   "source": [
    "window_size = 2000\n",
    "profit = []\n",
    "for i in range(len(test_df) - window_size):\n",
    "    data = test_df.loc[i : i + window_size]\n",
    "    data.reset_index(inplace =True)\n",
    "    profit.append(myGrid.back_test_longOnly(data))"
   ]
  },
  {
   "cell_type": "code",
   "execution_count": null,
   "metadata": {},
   "outputs": [],
   "source": [
    "expected_return = np.average(profit)\n",
    "risk_free_rate = 0.0204\n",
    "standard_deviation = np.std(profit)\n",
    "\n",
    "print(\"Sharpe ratio:\", (expected_return - risk_free_rate) / standard_deviation)"
   ]
  }
 ],
 "metadata": {
  "kernelspec": {
   "display_name": "Python 3.10.6 64-bit",
   "language": "python",
   "name": "python3"
  },
  "language_info": {
   "codemirror_mode": {
    "name": "ipython",
    "version": 3
   },
   "file_extension": ".py",
   "mimetype": "text/x-python",
   "name": "python",
   "nbconvert_exporter": "python",
   "pygments_lexer": "ipython3",
   "version": "3.10.6"
  },
  "orig_nbformat": 4,
  "vscode": {
   "interpreter": {
    "hash": "97cc609b13305c559618ec78a438abc56230b9381f827f22d070313b9a1f3777"
   }
  }
 },
 "nbformat": 4,
 "nbformat_minor": 2
}
